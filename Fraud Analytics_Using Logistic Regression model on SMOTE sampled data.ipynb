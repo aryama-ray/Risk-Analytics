{
 "cells": [
  {
   "cell_type": "markdown",
   "metadata": {},
   "source": [
    "Data Preparation - We are using creditcard data on Kaggle"
   ]
  },
  {
   "cell_type": "code",
   "execution_count": 1,
   "metadata": {},
   "outputs": [
    {
     "data": {
      "text/plain": [
       "Index(['Time', 'V1', 'V2', 'V3', 'V4', 'V5', 'V6', 'V7', 'V8', 'V9', 'V10',\n",
       "       'V11', 'V12', 'V13', 'V14', 'V15', 'V16', 'V17', 'V18', 'V19', 'V20',\n",
       "       'V21', 'V22', 'V23', 'V24', 'V25', 'V26', 'V27', 'V28', 'Amount',\n",
       "       'Class'],\n",
       "      dtype='object')"
      ]
     },
     "execution_count": 1,
     "metadata": {},
     "output_type": "execute_result"
    }
   ],
   "source": [
    "import pandas as pd\n",
    "import numpy as np\n",
    "\n",
    "#Read the data\n",
    "df=pd.read_csv(\"creditcard.csv\")\n",
    "\n",
    "df.columns"
   ]
  },
  {
   "cell_type": "markdown",
   "metadata": {},
   "source": [
    "The dataset has 31 columns. The first column “Time” is transaction timestamp, second last column “Amount” is transaction amount and the last column “Class” designates whether transaction as fraud or non-fraud (fraud = 1, non-fraud = 0). The rest of the columns, “V1” to “V28” are unknown variables which were transformed before making the data public."
   ]
  },
  {
   "cell_type": "code",
   "execution_count": 2,
   "metadata": {},
   "outputs": [
    {
     "data": {
      "text/plain": [
       "0    284315\n",
       "1       492\n",
       "Name: Class, dtype: int64"
      ]
     },
     "execution_count": 2,
     "metadata": {},
     "output_type": "execute_result"
    }
   ],
   "source": [
    "# number of fraud and non-fraud observations in the dataset\n",
    "pd.value_counts(df['Class'])"
   ]
  },
  {
   "cell_type": "code",
   "execution_count": 3,
   "metadata": {},
   "outputs": [],
   "source": [
    "## scaling the \"Amount\" and \"Time\" columns similar to the others variables\n",
    "from sklearn.preprocessing import RobustScaler\n",
    "rob_scaler = RobustScaler()"
   ]
  },
  {
   "cell_type": "code",
   "execution_count": 4,
   "metadata": {},
   "outputs": [
    {
     "data": {
      "text/plain": [
       "0         149.62\n",
       "1           2.69\n",
       "2         378.66\n",
       "3         123.50\n",
       "4          69.99\n",
       "5           3.67\n",
       "6           4.99\n",
       "7          40.80\n",
       "8          93.20\n",
       "9           3.68\n",
       "10          7.80\n",
       "11          9.99\n",
       "12        121.50\n",
       "13         27.50\n",
       "14         58.80\n",
       "15         15.99\n",
       "16         12.99\n",
       "17          0.89\n",
       "18         46.80\n",
       "19          5.00\n",
       "20        231.71\n",
       "21         34.09\n",
       "22          2.28\n",
       "23         22.75\n",
       "24          0.89\n",
       "25         26.43\n",
       "26         41.88\n",
       "27         16.00\n",
       "28         33.00\n",
       "29         12.99\n",
       "           ...  \n",
       "284777      1.00\n",
       "284778     80.00\n",
       "284779     25.00\n",
       "284780     30.00\n",
       "284781     13.00\n",
       "284782     12.82\n",
       "284783     11.46\n",
       "284784     40.00\n",
       "284785      1.79\n",
       "284786      8.95\n",
       "284787      9.99\n",
       "284788      3.99\n",
       "284789     60.50\n",
       "284790      9.81\n",
       "284791     20.32\n",
       "284792      3.99\n",
       "284793      4.99\n",
       "284794      0.89\n",
       "284795      9.87\n",
       "284796     60.00\n",
       "284797      5.49\n",
       "284798     24.05\n",
       "284799     79.99\n",
       "284800      2.68\n",
       "284801      2.69\n",
       "284802      0.77\n",
       "284803     24.79\n",
       "284804     67.88\n",
       "284805     10.00\n",
       "284806    217.00\n",
       "Name: Amount, Length: 284807, dtype: float64"
      ]
     },
     "execution_count": 4,
     "metadata": {},
     "output_type": "execute_result"
    }
   ],
   "source": [
    "df.Amount"
   ]
  },
  {
   "cell_type": "code",
   "execution_count": 5,
   "metadata": {},
   "outputs": [
    {
     "data": {
      "text/plain": [
       "0         1.783274\n",
       "1        -0.269825\n",
       "2         4.983721\n",
       "3         1.418291\n",
       "4         0.670579\n",
       "5        -0.256131\n",
       "6        -0.237686\n",
       "7         0.262698\n",
       "8         0.994900\n",
       "9        -0.255991\n",
       "10       -0.198421\n",
       "11       -0.167819\n",
       "12        1.390344\n",
       "13        0.076853\n",
       "14        0.514218\n",
       "15       -0.083980\n",
       "16       -0.125900\n",
       "17       -0.294977\n",
       "18        0.346538\n",
       "19       -0.237546\n",
       "20        2.930343\n",
       "21        0.168937\n",
       "22       -0.275554\n",
       "23        0.010480\n",
       "24       -0.294977\n",
       "25        0.061902\n",
       "26        0.277789\n",
       "27       -0.083840\n",
       "28        0.153706\n",
       "29       -0.125900\n",
       "            ...   \n",
       "284777   -0.293440\n",
       "284778    0.810452\n",
       "284779    0.041920\n",
       "284780    0.111786\n",
       "284781   -0.125760\n",
       "284782   -0.128275\n",
       "284783   -0.147279\n",
       "284784    0.251520\n",
       "284785   -0.282401\n",
       "284786   -0.182352\n",
       "284787   -0.167819\n",
       "284788   -0.251659\n",
       "284789    0.537972\n",
       "284790   -0.170335\n",
       "284791   -0.023475\n",
       "284792   -0.251659\n",
       "284793   -0.237686\n",
       "284794   -0.294977\n",
       "284795   -0.169496\n",
       "284796    0.530986\n",
       "284797   -0.230699\n",
       "284798    0.028645\n",
       "284799    0.810312\n",
       "284800   -0.269964\n",
       "284801   -0.269825\n",
       "284802   -0.296653\n",
       "284803    0.038986\n",
       "284804    0.641096\n",
       "284805   -0.167680\n",
       "284806    2.724796\n",
       "Name: scaled_Amount, Length: 284807, dtype: float64"
      ]
     },
     "execution_count": 5,
     "metadata": {},
     "output_type": "execute_result"
    }
   ],
   "source": [
    "df['scaled_Amount']=rob_scaler.fit_transform(df['Amount'].values.reshape(-1,1))\n",
    "df['scaled_Amount']"
   ]
  },
  {
   "cell_type": "code",
   "execution_count": 6,
   "metadata": {},
   "outputs": [
    {
     "data": {
      "text/plain": [
       "0        -0.994983\n",
       "1        -0.994983\n",
       "2        -0.994972\n",
       "3        -0.994972\n",
       "4        -0.994960\n",
       "5        -0.994960\n",
       "6        -0.994937\n",
       "7        -0.994901\n",
       "8        -0.994901\n",
       "9        -0.994878\n",
       "10       -0.994866\n",
       "11       -0.994866\n",
       "12       -0.994866\n",
       "13       -0.994854\n",
       "14       -0.994843\n",
       "15       -0.994843\n",
       "16       -0.994843\n",
       "17       -0.994831\n",
       "18       -0.994819\n",
       "19       -0.994807\n",
       "20       -0.994796\n",
       "21       -0.994784\n",
       "22       -0.994772\n",
       "23       -0.994772\n",
       "24       -0.994725\n",
       "25       -0.994725\n",
       "26       -0.994713\n",
       "27       -0.994713\n",
       "28       -0.994713\n",
       "29       -0.994713\n",
       "            ...   \n",
       "284777    1.034693\n",
       "284778    1.034693\n",
       "284779    1.034716\n",
       "284780    1.034716\n",
       "284781    1.034716\n",
       "284782    1.034728\n",
       "284783    1.034740\n",
       "284784    1.034740\n",
       "284785    1.034740\n",
       "284786    1.034740\n",
       "284787    1.034751\n",
       "284788    1.034763\n",
       "284789    1.034763\n",
       "284790    1.034775\n",
       "284791    1.034810\n",
       "284792    1.034810\n",
       "284793    1.034822\n",
       "284794    1.034845\n",
       "284795    1.034857\n",
       "284796    1.034881\n",
       "284797    1.034904\n",
       "284798    1.034904\n",
       "284799    1.034916\n",
       "284800    1.034928\n",
       "284801    1.034939\n",
       "284802    1.034951\n",
       "284803    1.034963\n",
       "284804    1.034975\n",
       "284805    1.034975\n",
       "284806    1.035022\n",
       "Name: scaled_Time, Length: 284807, dtype: float64"
      ]
     },
     "execution_count": 6,
     "metadata": {},
     "output_type": "execute_result"
    }
   ],
   "source": [
    "df['scaled_Time']=rob_scaler.fit_transform(df['Time'].values.reshape(-1,1))\n",
    "df['scaled_Time']"
   ]
  },
  {
   "cell_type": "code",
   "execution_count": 7,
   "metadata": {},
   "outputs": [
    {
     "data": {
      "text/html": [
       "<div>\n",
       "<style scoped>\n",
       "    .dataframe tbody tr th:only-of-type {\n",
       "        vertical-align: middle;\n",
       "    }\n",
       "\n",
       "    .dataframe tbody tr th {\n",
       "        vertical-align: top;\n",
       "    }\n",
       "\n",
       "    .dataframe thead th {\n",
       "        text-align: right;\n",
       "    }\n",
       "</style>\n",
       "<table border=\"1\" class=\"dataframe\">\n",
       "  <thead>\n",
       "    <tr style=\"text-align: right;\">\n",
       "      <th></th>\n",
       "      <th>V1</th>\n",
       "      <th>V2</th>\n",
       "      <th>V3</th>\n",
       "      <th>V4</th>\n",
       "      <th>V5</th>\n",
       "      <th>V6</th>\n",
       "      <th>V7</th>\n",
       "      <th>V8</th>\n",
       "      <th>V9</th>\n",
       "      <th>V10</th>\n",
       "      <th>...</th>\n",
       "      <th>V22</th>\n",
       "      <th>V23</th>\n",
       "      <th>V24</th>\n",
       "      <th>V25</th>\n",
       "      <th>V26</th>\n",
       "      <th>V27</th>\n",
       "      <th>V28</th>\n",
       "      <th>Class</th>\n",
       "      <th>scaled_Amount</th>\n",
       "      <th>scaled_Time</th>\n",
       "    </tr>\n",
       "  </thead>\n",
       "  <tbody>\n",
       "    <tr>\n",
       "      <th>0</th>\n",
       "      <td>-1.359807</td>\n",
       "      <td>-0.072781</td>\n",
       "      <td>2.536347</td>\n",
       "      <td>1.378155</td>\n",
       "      <td>-0.338321</td>\n",
       "      <td>0.462388</td>\n",
       "      <td>0.239599</td>\n",
       "      <td>0.098698</td>\n",
       "      <td>0.363787</td>\n",
       "      <td>0.090794</td>\n",
       "      <td>...</td>\n",
       "      <td>0.277838</td>\n",
       "      <td>-0.110474</td>\n",
       "      <td>0.066928</td>\n",
       "      <td>0.128539</td>\n",
       "      <td>-0.189115</td>\n",
       "      <td>0.133558</td>\n",
       "      <td>-0.021053</td>\n",
       "      <td>0</td>\n",
       "      <td>1.783274</td>\n",
       "      <td>-0.994983</td>\n",
       "    </tr>\n",
       "    <tr>\n",
       "      <th>1</th>\n",
       "      <td>1.191857</td>\n",
       "      <td>0.266151</td>\n",
       "      <td>0.166480</td>\n",
       "      <td>0.448154</td>\n",
       "      <td>0.060018</td>\n",
       "      <td>-0.082361</td>\n",
       "      <td>-0.078803</td>\n",
       "      <td>0.085102</td>\n",
       "      <td>-0.255425</td>\n",
       "      <td>-0.166974</td>\n",
       "      <td>...</td>\n",
       "      <td>-0.638672</td>\n",
       "      <td>0.101288</td>\n",
       "      <td>-0.339846</td>\n",
       "      <td>0.167170</td>\n",
       "      <td>0.125895</td>\n",
       "      <td>-0.008983</td>\n",
       "      <td>0.014724</td>\n",
       "      <td>0</td>\n",
       "      <td>-0.269825</td>\n",
       "      <td>-0.994983</td>\n",
       "    </tr>\n",
       "    <tr>\n",
       "      <th>2</th>\n",
       "      <td>-1.358354</td>\n",
       "      <td>-1.340163</td>\n",
       "      <td>1.773209</td>\n",
       "      <td>0.379780</td>\n",
       "      <td>-0.503198</td>\n",
       "      <td>1.800499</td>\n",
       "      <td>0.791461</td>\n",
       "      <td>0.247676</td>\n",
       "      <td>-1.514654</td>\n",
       "      <td>0.207643</td>\n",
       "      <td>...</td>\n",
       "      <td>0.771679</td>\n",
       "      <td>0.909412</td>\n",
       "      <td>-0.689281</td>\n",
       "      <td>-0.327642</td>\n",
       "      <td>-0.139097</td>\n",
       "      <td>-0.055353</td>\n",
       "      <td>-0.059752</td>\n",
       "      <td>0</td>\n",
       "      <td>4.983721</td>\n",
       "      <td>-0.994972</td>\n",
       "    </tr>\n",
       "    <tr>\n",
       "      <th>3</th>\n",
       "      <td>-0.966272</td>\n",
       "      <td>-0.185226</td>\n",
       "      <td>1.792993</td>\n",
       "      <td>-0.863291</td>\n",
       "      <td>-0.010309</td>\n",
       "      <td>1.247203</td>\n",
       "      <td>0.237609</td>\n",
       "      <td>0.377436</td>\n",
       "      <td>-1.387024</td>\n",
       "      <td>-0.054952</td>\n",
       "      <td>...</td>\n",
       "      <td>0.005274</td>\n",
       "      <td>-0.190321</td>\n",
       "      <td>-1.175575</td>\n",
       "      <td>0.647376</td>\n",
       "      <td>-0.221929</td>\n",
       "      <td>0.062723</td>\n",
       "      <td>0.061458</td>\n",
       "      <td>0</td>\n",
       "      <td>1.418291</td>\n",
       "      <td>-0.994972</td>\n",
       "    </tr>\n",
       "    <tr>\n",
       "      <th>4</th>\n",
       "      <td>-1.158233</td>\n",
       "      <td>0.877737</td>\n",
       "      <td>1.548718</td>\n",
       "      <td>0.403034</td>\n",
       "      <td>-0.407193</td>\n",
       "      <td>0.095921</td>\n",
       "      <td>0.592941</td>\n",
       "      <td>-0.270533</td>\n",
       "      <td>0.817739</td>\n",
       "      <td>0.753074</td>\n",
       "      <td>...</td>\n",
       "      <td>0.798278</td>\n",
       "      <td>-0.137458</td>\n",
       "      <td>0.141267</td>\n",
       "      <td>-0.206010</td>\n",
       "      <td>0.502292</td>\n",
       "      <td>0.219422</td>\n",
       "      <td>0.215153</td>\n",
       "      <td>0</td>\n",
       "      <td>0.670579</td>\n",
       "      <td>-0.994960</td>\n",
       "    </tr>\n",
       "  </tbody>\n",
       "</table>\n",
       "<p>5 rows × 31 columns</p>\n",
       "</div>"
      ],
      "text/plain": [
       "         V1        V2        V3        V4        V5        V6        V7  \\\n",
       "0 -1.359807 -0.072781  2.536347  1.378155 -0.338321  0.462388  0.239599   \n",
       "1  1.191857  0.266151  0.166480  0.448154  0.060018 -0.082361 -0.078803   \n",
       "2 -1.358354 -1.340163  1.773209  0.379780 -0.503198  1.800499  0.791461   \n",
       "3 -0.966272 -0.185226  1.792993 -0.863291 -0.010309  1.247203  0.237609   \n",
       "4 -1.158233  0.877737  1.548718  0.403034 -0.407193  0.095921  0.592941   \n",
       "\n",
       "         V8        V9       V10     ...            V22       V23       V24  \\\n",
       "0  0.098698  0.363787  0.090794     ...       0.277838 -0.110474  0.066928   \n",
       "1  0.085102 -0.255425 -0.166974     ...      -0.638672  0.101288 -0.339846   \n",
       "2  0.247676 -1.514654  0.207643     ...       0.771679  0.909412 -0.689281   \n",
       "3  0.377436 -1.387024 -0.054952     ...       0.005274 -0.190321 -1.175575   \n",
       "4 -0.270533  0.817739  0.753074     ...       0.798278 -0.137458  0.141267   \n",
       "\n",
       "        V25       V26       V27       V28  Class  scaled_Amount  scaled_Time  \n",
       "0  0.128539 -0.189115  0.133558 -0.021053      0       1.783274    -0.994983  \n",
       "1  0.167170  0.125895 -0.008983  0.014724      0      -0.269825    -0.994983  \n",
       "2 -0.327642 -0.139097 -0.055353 -0.059752      0       4.983721    -0.994972  \n",
       "3  0.647376 -0.221929  0.062723  0.061458      0       1.418291    -0.994972  \n",
       "4 -0.206010  0.502292  0.219422  0.215153      0       0.670579    -0.994960  \n",
       "\n",
       "[5 rows x 31 columns]"
      ]
     },
     "execution_count": 7,
     "metadata": {},
     "output_type": "execute_result"
    }
   ],
   "source": [
    "# now drop the original columns\n",
    "df.drop(['Time','Amount'], axis=1, inplace=True)\n",
    "df.head()"
   ]
  },
  {
   "cell_type": "code",
   "execution_count": 8,
   "metadata": {},
   "outputs": [],
   "source": [
    "# Lets define X and y variables\n",
    "X = df.loc[:, df.columns != 'Class']\n",
    "y = df.loc[:, df.columns == 'Class']"
   ]
  },
  {
   "cell_type": "markdown",
   "metadata": {},
   "source": [
    "import matplotlib.pyplot as plt\n",
    "# Define a function to create a scatter plot of  data and Class labels\n",
    "def plot_data(X, y):\n",
    "    plt.scatter(X[y == 0, 0], X[y == 0, 1], label=\"Class #0\", alpha=0.5, linewidth=0.15)\n",
    "    plt.scatter(X[y == 1, 0], X[y == 1, 1], label=\"Class #1\", alpha=0.5, linewidth=0.15, c='r') \n",
    "    plt.legend()\n",
    "    return plt.show()\n",
    "\n",
    "#x=df.loc[df['Class']==0]\n",
    "#y=df.loc[df['Class']==1]\n",
    "plot_data(X,y)"
   ]
  },
  {
   "cell_type": "markdown",
   "metadata": {},
   "source": [
    "Let us perform SMOTE (Synthetic Minority Oversampling Technique) sampling over the data set\n"
   ]
  },
  {
   "cell_type": "code",
   "execution_count": 13,
   "metadata": {},
   "outputs": [],
   "source": [
    "from sklearn.model_selection import train_test_split\n",
    "from imblearn.over_sampling import SMOTE\n",
    "from imblearn.pipeline import Pipeline\n",
    "\n",
    "resampling = SMOTE(sampling_strategy=0.1)\n",
    "X_train,X_test,y_train,y_test=train_test_split(X,y,test_size=0.3,random_state=0)\n",
    "\n",
    "#Applying resampling to the traing data only\n",
    "X_resampled,y_resampled=resampling.fit_sample(X_train,y_train)\n",
    "\n",
    "# Define the pipeline, tell it to combine SMOTE with the Logistic Regression model\n",
    "#pipeline = Pipeline([('SMOTE', resampling), ('Logistic Regression', model)])"
   ]
  },
  {
   "cell_type": "code",
   "execution_count": 15,
   "metadata": {},
   "outputs": [
    {
     "name": "stderr",
     "output_type": "stream",
     "text": [
      "C:\\Users\\tanmoy_sinha\\Anaconda3\\lib\\site-packages\\sklearn\\utils\\validation.py:72: DataConversionWarning: A column-vector y was passed when a 1d array was expected. Please change the shape of y to (n_samples, ), for example using ravel().\n",
      "  return f(**kwargs)\n"
     ]
    },
    {
     "data": {
      "text/plain": [
       "LogisticRegression()"
      ]
     },
     "execution_count": 15,
     "metadata": {},
     "output_type": "execute_result"
    }
   ],
   "source": [
    "from sklearn.linear_model import LogisticRegression\n",
    "#We will fit logistic regression with sampled data\n",
    "model=LogisticRegression()\n",
    "model.fit(X_resampled,y_resampled)\n"
   ]
  },
  {
   "cell_type": "code",
   "execution_count": 20,
   "metadata": {},
   "outputs": [
    {
     "name": "stdout",
     "output_type": "stream",
     "text": [
      "              precision    recall  f1-score   support\n",
      "\n",
      "           0       1.00      1.00      1.00     85296\n",
      "           1       0.41      0.85      0.56       147\n",
      "\n",
      "    accuracy                           1.00     85443\n",
      "   macro avg       0.71      0.92      0.78     85443\n",
      "weighted avg       1.00      1.00      1.00     85443\n",
      "\n"
     ]
    }
   ],
   "source": [
    "from sklearn.metrics import classification_report\n",
    "#Performance metrics\n",
    "predicted=model.predict(X_test)\n",
    "print(classification_report(y_test,predicted))"
   ]
  },
  {
   "cell_type": "code",
   "execution_count": 22,
   "metadata": {},
   "outputs": [
    {
     "name": "stdout",
     "output_type": "stream",
     "text": [
      "[[85118   178]\n",
      " [   22   125]]\n"
     ]
    }
   ],
   "source": [
    "from sklearn.metrics import confusion_matrix\n",
    "\n",
    "confusion_matrix_out=confusion_matrix(y_test,predicted)\n",
    "print(confusion_matrix_out)"
   ]
  },
  {
   "cell_type": "code",
   "execution_count": null,
   "metadata": {},
   "outputs": [],
   "source": []
  }
 ],
 "metadata": {
  "kernelspec": {
   "display_name": "Python 3",
   "language": "python",
   "name": "python3"
  },
  "language_info": {
   "codemirror_mode": {
    "name": "ipython",
    "version": 3
   },
   "file_extension": ".py",
   "mimetype": "text/x-python",
   "name": "python",
   "nbconvert_exporter": "python",
   "pygments_lexer": "ipython3",
   "version": "3.6.5"
  }
 },
 "nbformat": 4,
 "nbformat_minor": 2
}
